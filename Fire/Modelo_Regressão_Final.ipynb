{
 "cells": [
  {
   "cell_type": "code",
   "execution_count": 1,
   "id": "335261ab",
   "metadata": {},
   "outputs": [],
   "source": [
    "import pandas as pd\n",
    "import numpy as np\n",
    "import warnings\n",
    "import matplotlib.pyplot as plt\n",
    "import joblib as jb\n",
    "from joblib import dump, load\n",
    "from scipy import stats\n",
    "from sklearn.metrics import confusion_matrix\n",
    "from sklearn import metrics\n",
    "from sklearn.metrics import accuracy_score\n",
    "from sklearn.model_selection import train_test_split\n",
    "from sklearn.ensemble import RandomForestRegressor, GradientBoostingRegressor\n",
    "from sklearn.preprocessing import LabelEncoder\n",
    "from sklearn.metrics import mean_squared_error, r2_score\n",
    "from scipy.stats import median_absolute_deviation\n",
    "from sklearn.model_selection import RandomizedSearchCV"
   ]
  },
  {
   "cell_type": "code",
   "execution_count": 2,
   "id": "2e53e9a5",
   "metadata": {},
   "outputs": [],
   "source": [
    "ff = pd.read_csv('C:/Users/deand/OneDrive/estudy/Fire/ff.csv', encoding = \"utf-8\")"
   ]
  },
  {
   "cell_type": "code",
   "execution_count": 3,
   "id": "bf077300",
   "metadata": {},
   "outputs": [
    {
     "data": {
      "text/html": [
       "<div>\n",
       "<style scoped>\n",
       "    .dataframe tbody tr th:only-of-type {\n",
       "        vertical-align: middle;\n",
       "    }\n",
       "\n",
       "    .dataframe tbody tr th {\n",
       "        vertical-align: top;\n",
       "    }\n",
       "\n",
       "    .dataframe thead th {\n",
       "        text-align: right;\n",
       "    }\n",
       "</style>\n",
       "<table border=\"1\" class=\"dataframe\">\n",
       "  <thead>\n",
       "    <tr style=\"text-align: right;\">\n",
       "      <th></th>\n",
       "      <th>X</th>\n",
       "      <th>Y</th>\n",
       "      <th>month</th>\n",
       "      <th>day</th>\n",
       "      <th>FFMC</th>\n",
       "      <th>DMC</th>\n",
       "      <th>DC</th>\n",
       "      <th>ISI</th>\n",
       "      <th>temp</th>\n",
       "      <th>RH</th>\n",
       "      <th>wind</th>\n",
       "      <th>rain</th>\n",
       "      <th>area</th>\n",
       "    </tr>\n",
       "  </thead>\n",
       "  <tbody>\n",
       "    <tr>\n",
       "      <th>0</th>\n",
       "      <td>7</td>\n",
       "      <td>5</td>\n",
       "      <td>mar</td>\n",
       "      <td>fri</td>\n",
       "      <td>86.2</td>\n",
       "      <td>26.2</td>\n",
       "      <td>94.3</td>\n",
       "      <td>5.1</td>\n",
       "      <td>8.2</td>\n",
       "      <td>51</td>\n",
       "      <td>6.7</td>\n",
       "      <td>0.0</td>\n",
       "      <td>0.0</td>\n",
       "    </tr>\n",
       "    <tr>\n",
       "      <th>1</th>\n",
       "      <td>7</td>\n",
       "      <td>4</td>\n",
       "      <td>oct</td>\n",
       "      <td>tue</td>\n",
       "      <td>90.6</td>\n",
       "      <td>35.4</td>\n",
       "      <td>669.1</td>\n",
       "      <td>6.7</td>\n",
       "      <td>18.0</td>\n",
       "      <td>33</td>\n",
       "      <td>0.9</td>\n",
       "      <td>0.0</td>\n",
       "      <td>0.0</td>\n",
       "    </tr>\n",
       "    <tr>\n",
       "      <th>2</th>\n",
       "      <td>7</td>\n",
       "      <td>4</td>\n",
       "      <td>oct</td>\n",
       "      <td>sat</td>\n",
       "      <td>90.6</td>\n",
       "      <td>43.7</td>\n",
       "      <td>686.9</td>\n",
       "      <td>6.7</td>\n",
       "      <td>14.6</td>\n",
       "      <td>33</td>\n",
       "      <td>1.3</td>\n",
       "      <td>0.0</td>\n",
       "      <td>0.0</td>\n",
       "    </tr>\n",
       "    <tr>\n",
       "      <th>3</th>\n",
       "      <td>8</td>\n",
       "      <td>6</td>\n",
       "      <td>mar</td>\n",
       "      <td>fri</td>\n",
       "      <td>91.7</td>\n",
       "      <td>33.3</td>\n",
       "      <td>77.5</td>\n",
       "      <td>9.0</td>\n",
       "      <td>8.3</td>\n",
       "      <td>97</td>\n",
       "      <td>4.0</td>\n",
       "      <td>0.2</td>\n",
       "      <td>0.0</td>\n",
       "    </tr>\n",
       "    <tr>\n",
       "      <th>4</th>\n",
       "      <td>8</td>\n",
       "      <td>6</td>\n",
       "      <td>mar</td>\n",
       "      <td>sun</td>\n",
       "      <td>89.3</td>\n",
       "      <td>51.3</td>\n",
       "      <td>102.2</td>\n",
       "      <td>9.6</td>\n",
       "      <td>11.4</td>\n",
       "      <td>99</td>\n",
       "      <td>1.8</td>\n",
       "      <td>0.0</td>\n",
       "      <td>0.0</td>\n",
       "    </tr>\n",
       "  </tbody>\n",
       "</table>\n",
       "</div>"
      ],
      "text/plain": [
       "   X  Y month  day  FFMC   DMC     DC  ISI  temp  RH  wind  rain  area\n",
       "0  7  5   mar  fri  86.2  26.2   94.3  5.1   8.2  51   6.7   0.0   0.0\n",
       "1  7  4   oct  tue  90.6  35.4  669.1  6.7  18.0  33   0.9   0.0   0.0\n",
       "2  7  4   oct  sat  90.6  43.7  686.9  6.7  14.6  33   1.3   0.0   0.0\n",
       "3  8  6   mar  fri  91.7  33.3   77.5  9.0   8.3  97   4.0   0.2   0.0\n",
       "4  8  6   mar  sun  89.3  51.3  102.2  9.6  11.4  99   1.8   0.0   0.0"
      ]
     },
     "execution_count": 3,
     "metadata": {},
     "output_type": "execute_result"
    }
   ],
   "source": [
    "#verificando se a importação foi bem sucedida\n",
    "ff.head()"
   ]
  },
  {
   "cell_type": "code",
   "execution_count": 4,
   "id": "466afb2a",
   "metadata": {},
   "outputs": [
    {
     "name": "stdout",
     "output_type": "stream",
     "text": [
      "<class 'pandas.core.frame.DataFrame'>\n",
      "RangeIndex: 517 entries, 0 to 516\n",
      "Data columns (total 13 columns):\n",
      " #   Column  Non-Null Count  Dtype  \n",
      "---  ------  --------------  -----  \n",
      " 0   X       517 non-null    int64  \n",
      " 1   Y       517 non-null    int64  \n",
      " 2   month   517 non-null    object \n",
      " 3   day     517 non-null    object \n",
      " 4   FFMC    517 non-null    float64\n",
      " 5   DMC     517 non-null    float64\n",
      " 6   DC      517 non-null    float64\n",
      " 7   ISI     517 non-null    float64\n",
      " 8   temp    517 non-null    float64\n",
      " 9   RH      517 non-null    int64  \n",
      " 10  wind    517 non-null    float64\n",
      " 11  rain    517 non-null    float64\n",
      " 12  area    517 non-null    float64\n",
      "dtypes: float64(8), int64(3), object(2)\n",
      "memory usage: 52.6+ KB\n"
     ]
    }
   ],
   "source": [
    "#verificando tipos de dados, temos (int, object e float64) removeremos as variaveis do tipo object.\n",
    "ff.info()"
   ]
  },
  {
   "cell_type": "code",
   "execution_count": 5,
   "id": "c086e47d",
   "metadata": {},
   "outputs": [],
   "source": [
    "#existem duas variáveis categóricas (month e day). Iremos removê-las.\n",
    "\n",
    "ff.drop('month', axis = 1, inplace = True)\n",
    "ff.drop('day', axis = 1, inplace = True)"
   ]
  },
  {
   "cell_type": "code",
   "execution_count": 6,
   "id": "c920b599",
   "metadata": {},
   "outputs": [
    {
     "data": {
      "text/html": [
       "<div>\n",
       "<style scoped>\n",
       "    .dataframe tbody tr th:only-of-type {\n",
       "        vertical-align: middle;\n",
       "    }\n",
       "\n",
       "    .dataframe tbody tr th {\n",
       "        vertical-align: top;\n",
       "    }\n",
       "\n",
       "    .dataframe thead th {\n",
       "        text-align: right;\n",
       "    }\n",
       "</style>\n",
       "<table border=\"1\" class=\"dataframe\">\n",
       "  <thead>\n",
       "    <tr style=\"text-align: right;\">\n",
       "      <th></th>\n",
       "      <th>X</th>\n",
       "      <th>Y</th>\n",
       "      <th>FFMC</th>\n",
       "      <th>DMC</th>\n",
       "      <th>DC</th>\n",
       "      <th>ISI</th>\n",
       "      <th>temp</th>\n",
       "      <th>RH</th>\n",
       "      <th>wind</th>\n",
       "      <th>rain</th>\n",
       "      <th>area</th>\n",
       "    </tr>\n",
       "  </thead>\n",
       "  <tbody>\n",
       "    <tr>\n",
       "      <th>0</th>\n",
       "      <td>7</td>\n",
       "      <td>5</td>\n",
       "      <td>86.2</td>\n",
       "      <td>26.2</td>\n",
       "      <td>94.3</td>\n",
       "      <td>5.1</td>\n",
       "      <td>8.2</td>\n",
       "      <td>51</td>\n",
       "      <td>6.7</td>\n",
       "      <td>0.0</td>\n",
       "      <td>0.00</td>\n",
       "    </tr>\n",
       "    <tr>\n",
       "      <th>1</th>\n",
       "      <td>7</td>\n",
       "      <td>4</td>\n",
       "      <td>90.6</td>\n",
       "      <td>35.4</td>\n",
       "      <td>669.1</td>\n",
       "      <td>6.7</td>\n",
       "      <td>18.0</td>\n",
       "      <td>33</td>\n",
       "      <td>0.9</td>\n",
       "      <td>0.0</td>\n",
       "      <td>0.00</td>\n",
       "    </tr>\n",
       "    <tr>\n",
       "      <th>2</th>\n",
       "      <td>7</td>\n",
       "      <td>4</td>\n",
       "      <td>90.6</td>\n",
       "      <td>43.7</td>\n",
       "      <td>686.9</td>\n",
       "      <td>6.7</td>\n",
       "      <td>14.6</td>\n",
       "      <td>33</td>\n",
       "      <td>1.3</td>\n",
       "      <td>0.0</td>\n",
       "      <td>0.00</td>\n",
       "    </tr>\n",
       "    <tr>\n",
       "      <th>3</th>\n",
       "      <td>8</td>\n",
       "      <td>6</td>\n",
       "      <td>91.7</td>\n",
       "      <td>33.3</td>\n",
       "      <td>77.5</td>\n",
       "      <td>9.0</td>\n",
       "      <td>8.3</td>\n",
       "      <td>97</td>\n",
       "      <td>4.0</td>\n",
       "      <td>0.2</td>\n",
       "      <td>0.00</td>\n",
       "    </tr>\n",
       "    <tr>\n",
       "      <th>4</th>\n",
       "      <td>8</td>\n",
       "      <td>6</td>\n",
       "      <td>89.3</td>\n",
       "      <td>51.3</td>\n",
       "      <td>102.2</td>\n",
       "      <td>9.6</td>\n",
       "      <td>11.4</td>\n",
       "      <td>99</td>\n",
       "      <td>1.8</td>\n",
       "      <td>0.0</td>\n",
       "      <td>0.00</td>\n",
       "    </tr>\n",
       "    <tr>\n",
       "      <th>...</th>\n",
       "      <td>...</td>\n",
       "      <td>...</td>\n",
       "      <td>...</td>\n",
       "      <td>...</td>\n",
       "      <td>...</td>\n",
       "      <td>...</td>\n",
       "      <td>...</td>\n",
       "      <td>...</td>\n",
       "      <td>...</td>\n",
       "      <td>...</td>\n",
       "      <td>...</td>\n",
       "    </tr>\n",
       "    <tr>\n",
       "      <th>195</th>\n",
       "      <td>2</td>\n",
       "      <td>5</td>\n",
       "      <td>93.9</td>\n",
       "      <td>135.7</td>\n",
       "      <td>586.7</td>\n",
       "      <td>15.1</td>\n",
       "      <td>23.5</td>\n",
       "      <td>36</td>\n",
       "      <td>5.4</td>\n",
       "      <td>0.0</td>\n",
       "      <td>10.02</td>\n",
       "    </tr>\n",
       "    <tr>\n",
       "      <th>196</th>\n",
       "      <td>6</td>\n",
       "      <td>5</td>\n",
       "      <td>81.5</td>\n",
       "      <td>9.1</td>\n",
       "      <td>55.2</td>\n",
       "      <td>2.7</td>\n",
       "      <td>5.8</td>\n",
       "      <td>54</td>\n",
       "      <td>5.8</td>\n",
       "      <td>0.0</td>\n",
       "      <td>10.93</td>\n",
       "    </tr>\n",
       "    <tr>\n",
       "      <th>197</th>\n",
       "      <td>4</td>\n",
       "      <td>5</td>\n",
       "      <td>92.9</td>\n",
       "      <td>137.0</td>\n",
       "      <td>706.4</td>\n",
       "      <td>9.2</td>\n",
       "      <td>21.5</td>\n",
       "      <td>15</td>\n",
       "      <td>0.9</td>\n",
       "      <td>0.0</td>\n",
       "      <td>11.06</td>\n",
       "    </tr>\n",
       "    <tr>\n",
       "      <th>198</th>\n",
       "      <td>3</td>\n",
       "      <td>4</td>\n",
       "      <td>91.0</td>\n",
       "      <td>129.5</td>\n",
       "      <td>692.6</td>\n",
       "      <td>7.0</td>\n",
       "      <td>13.9</td>\n",
       "      <td>59</td>\n",
       "      <td>6.3</td>\n",
       "      <td>0.0</td>\n",
       "      <td>11.24</td>\n",
       "    </tr>\n",
       "    <tr>\n",
       "      <th>199</th>\n",
       "      <td>2</td>\n",
       "      <td>4</td>\n",
       "      <td>63.5</td>\n",
       "      <td>70.8</td>\n",
       "      <td>665.3</td>\n",
       "      <td>0.8</td>\n",
       "      <td>22.6</td>\n",
       "      <td>38</td>\n",
       "      <td>3.6</td>\n",
       "      <td>0.0</td>\n",
       "      <td>11.32</td>\n",
       "    </tr>\n",
       "  </tbody>\n",
       "</table>\n",
       "<p>200 rows × 11 columns</p>\n",
       "</div>"
      ],
      "text/plain": [
       "     X  Y  FFMC    DMC     DC   ISI  temp  RH  wind  rain   area\n",
       "0    7  5  86.2   26.2   94.3   5.1   8.2  51   6.7   0.0   0.00\n",
       "1    7  4  90.6   35.4  669.1   6.7  18.0  33   0.9   0.0   0.00\n",
       "2    7  4  90.6   43.7  686.9   6.7  14.6  33   1.3   0.0   0.00\n",
       "3    8  6  91.7   33.3   77.5   9.0   8.3  97   4.0   0.2   0.00\n",
       "4    8  6  89.3   51.3  102.2   9.6  11.4  99   1.8   0.0   0.00\n",
       "..  .. ..   ...    ...    ...   ...   ...  ..   ...   ...    ...\n",
       "195  2  5  93.9  135.7  586.7  15.1  23.5  36   5.4   0.0  10.02\n",
       "196  6  5  81.5    9.1   55.2   2.7   5.8  54   5.8   0.0  10.93\n",
       "197  4  5  92.9  137.0  706.4   9.2  21.5  15   0.9   0.0  11.06\n",
       "198  3  4  91.0  129.5  692.6   7.0  13.9  59   6.3   0.0  11.24\n",
       "199  2  4  63.5   70.8  665.3   0.8  22.6  38   3.6   0.0  11.32\n",
       "\n",
       "[200 rows x 11 columns]"
      ]
     },
     "execution_count": 6,
     "metadata": {},
     "output_type": "execute_result"
    }
   ],
   "source": [
    "ff.head(200)"
   ]
  },
  {
   "cell_type": "code",
   "execution_count": 7,
   "id": "8ed1a8a5",
   "metadata": {},
   "outputs": [
    {
     "name": "stdout",
     "output_type": "stream",
     "text": [
      "<class 'pandas.core.frame.DataFrame'>\n",
      "RangeIndex: 517 entries, 0 to 516\n",
      "Data columns (total 11 columns):\n",
      " #   Column  Non-Null Count  Dtype  \n",
      "---  ------  --------------  -----  \n",
      " 0   X       517 non-null    int64  \n",
      " 1   Y       517 non-null    int64  \n",
      " 2   FFMC    517 non-null    float64\n",
      " 3   DMC     517 non-null    float64\n",
      " 4   DC      517 non-null    float64\n",
      " 5   ISI     517 non-null    float64\n",
      " 6   temp    517 non-null    float64\n",
      " 7   RH      517 non-null    int64  \n",
      " 8   wind    517 non-null    float64\n",
      " 9   rain    517 non-null    float64\n",
      " 10  area    517 non-null    float64\n",
      "dtypes: float64(8), int64(3)\n",
      "memory usage: 44.6 KB\n"
     ]
    }
   ],
   "source": [
    "#Verificando se a exclusão foi bem sucedida\n",
    "ff.info()"
   ]
  },
  {
   "cell_type": "code",
   "execution_count": 8,
   "id": "2111eaa9",
   "metadata": {},
   "outputs": [
    {
     "data": {
      "text/plain": [
       "<bound method NDFrame._add_numeric_operations.<locals>.sum of X       0\n",
       "Y       0\n",
       "FFMC    0\n",
       "DMC     0\n",
       "DC      0\n",
       "ISI     0\n",
       "temp    0\n",
       "RH      0\n",
       "wind    0\n",
       "rain    0\n",
       "area    0\n",
       "dtype: int64>"
      ]
     },
     "execution_count": 8,
     "metadata": {},
     "output_type": "execute_result"
    }
   ],
   "source": [
    "#verificando se tem dados incompletos/nulos\n",
    "ff.isnull().sum().sum"
   ]
  },
  {
   "cell_type": "code",
   "execution_count": 9,
   "id": "3d93e6e1",
   "metadata": {
    "scrolled": true
   },
   "outputs": [
    {
     "name": "stdout",
     "output_type": "stream",
     "text": [
      "     X  Y  FFMC    DMC     DC   ISI  temp  RH  wind  rain   area\n",
      "53   4  3  92.1  111.2  654.1   9.6  20.4  42   4.9   0.0   0.00\n",
      "100  3  4  91.4  142.4  601.4  10.6  19.8  39   5.4   0.0   0.00\n",
      "215  4  4  91.7   35.8   80.8   7.8  17.0  27   4.9   0.0  28.66\n",
      "303  3  6  91.1   94.1  232.1   7.1  19.2  38   4.5   0.0   0.00\n"
     ]
    }
   ],
   "source": [
    "dp = ff[ff.duplicated(keep='first')]\n",
    "print(dp)\n",
    "#Temos dados duplicados mas não vamos excluir porque, nem todas as colunas e linhas repetem os mesmos dados\n",
    "#nesse caso acredito estariamos desperdiçando dados"
   ]
  },
  {
   "cell_type": "code",
   "execution_count": 10,
   "id": "cbf86ffc",
   "metadata": {},
   "outputs": [
    {
     "name": "stdout",
     "output_type": "stream",
     "text": [
      "Correlation:              X         Y      FFMC       DMC        DC       ISI      temp  \\\n",
      "X     1.000000  0.539548 -0.021039 -0.048384 -0.085916  0.006210 -0.051258   \n",
      "Y     0.539548  1.000000 -0.046308  0.007782 -0.101178 -0.024488 -0.024103   \n",
      "FFMC -0.021039 -0.046308  1.000000  0.382619  0.330512  0.531805  0.431532   \n",
      "DMC  -0.048384  0.007782  0.382619  1.000000  0.682192  0.305128  0.469594   \n",
      "DC   -0.085916 -0.101178  0.330512  0.682192  1.000000  0.229154  0.496208   \n",
      "ISI   0.006210 -0.024488  0.531805  0.305128  0.229154  1.000000  0.394287   \n",
      "temp -0.051258 -0.024103  0.431532  0.469594  0.496208  0.394287  1.000000   \n",
      "RH    0.085223  0.062221 -0.300995  0.073795 -0.039192 -0.132517 -0.527390   \n",
      "wind  0.018798 -0.020341 -0.028485 -0.105342 -0.203466  0.106826 -0.227116   \n",
      "rain  0.065387  0.033234  0.056702  0.074790  0.035861  0.067668  0.069491   \n",
      "area  0.063385  0.044873  0.040122  0.072994  0.049383  0.008258  0.097844   \n",
      "\n",
      "            RH      wind      rain      area  \n",
      "X     0.085223  0.018798  0.065387  0.063385  \n",
      "Y     0.062221 -0.020341  0.033234  0.044873  \n",
      "FFMC -0.300995 -0.028485  0.056702  0.040122  \n",
      "DMC   0.073795 -0.105342  0.074790  0.072994  \n",
      "DC   -0.039192 -0.203466  0.035861  0.049383  \n",
      "ISI  -0.132517  0.106826  0.067668  0.008258  \n",
      "temp -0.527390 -0.227116  0.069491  0.097844  \n",
      "RH    1.000000  0.069410  0.099751 -0.075519  \n",
      "wind  0.069410  1.000000  0.061119  0.012317  \n",
      "rain  0.099751  0.061119  1.000000 -0.007366  \n",
      "area -0.075519  0.012317 -0.007366  1.000000  \n"
     ]
    }
   ],
   "source": [
    "print(\"Correlation:\", ff.corr(method='pearson'))"
   ]
  },
  {
   "cell_type": "code",
   "execution_count": 11,
   "id": "c87d3347",
   "metadata": {},
   "outputs": [],
   "source": [
    "X = ff.drop(columns=['area'],axis=1)"
   ]
  },
  {
   "cell_type": "code",
   "execution_count": 12,
   "id": "a8930d4d",
   "metadata": {},
   "outputs": [],
   "source": [
    "y = ff['area']"
   ]
  },
  {
   "cell_type": "code",
   "execution_count": 13,
   "id": "0077b8e5",
   "metadata": {},
   "outputs": [
    {
     "data": {
      "text/plain": [
       "((517, 10), (517,))"
      ]
     },
     "execution_count": 13,
     "metadata": {},
     "output_type": "execute_result"
    }
   ],
   "source": [
    "X.shape, y.shape"
   ]
  },
  {
   "cell_type": "code",
   "execution_count": 14,
   "id": "6b458f10",
   "metadata": {},
   "outputs": [],
   "source": [
    "#separando o conjunto de dados\n",
    "first_setup = X[['X','Y','FFMC','DMC','DC','ISI']]\n",
    "second_setup = X[['X','Y','temp','RH','wind','rain']]\n",
    "third_setup = X[['FFMC','DMC','DC','ISI']]\n",
    "fourth_setup =  X[['temp','RH','wind','rain']]"
   ]
  },
  {
   "cell_type": "code",
   "execution_count": 15,
   "id": "bfc53a00",
   "metadata": {},
   "outputs": [],
   "source": [
    "#separando modelos em treino e teste\n",
    "ratio_train = 0.35\n",
    "random_st = 42\n",
    "\n",
    "X_train1, X_valid1, y_train1, y_valid1 = train_test_split(first_setup,y,train_size=ratio_train, random_state=random_st)\n",
    "X_train2, X_valid2, y_train2, y_valid2 = train_test_split(second_setup,y,train_size=ratio_train, random_state=random_st)\n",
    "X_train3, X_valid3, y_train3, y_valid3 = train_test_split(third_setup,y,train_size=ratio_train, random_state=random_st)\n",
    "X_train4, X_valid4, y_train4, y_valid4 = train_test_split(fourth_setup,y,train_size=ratio_train, random_state=random_st)"
   ]
  },
  {
   "cell_type": "code",
   "execution_count": 16,
   "id": "d7727b0c",
   "metadata": {},
   "outputs": [
    {
     "name": "stdout",
     "output_type": "stream",
     "text": [
      "MSE:  6767.660725566868\n",
      "MAD:  4.57726666666667\n",
      "R^2:  -0.5812332638714899\n"
     ]
    }
   ],
   "source": [
    "#aplicando .fit() e .predict(), treinando o modelo 1\n",
    "model1 = RandomForestRegressor(random_state=random_st)\n",
    "model1.fit(X_train1,y_train1)\n",
    "y_pred1 = model1.predict(X_valid1)\n",
    "print(\"MSE: \",mean_squared_error(y_valid1, y_pred1))\n",
    "print(\"MAD: \", stats.median_abs_deviation(y_pred1))\n",
    "print(\"R^2: \", r2_score(y_valid1,y_pred1))"
   ]
  },
  {
   "cell_type": "code",
   "execution_count": 17,
   "id": "8ffe2d98",
   "metadata": {
    "scrolled": false
   },
   "outputs": [
    {
     "name": "stdout",
     "output_type": "stream",
     "text": [
      "MSE:  5645.437443795517\n",
      "MAD:  3.4017999999999997\n",
      "R^2:  -0.3190308789433869\n"
     ]
    }
   ],
   "source": [
    "#aplicando .fit() e .predict(), treinando o modelo 2\n",
    "model2 = RandomForestRegressor(random_state=random_st)\n",
    "model2.fit(X_train2,y_train2)\n",
    "y_pred2 = model2.predict(X_valid2)\n",
    "print(\"MSE: \",mean_squared_error(y_valid2, y_pred2))\n",
    "print(\"MAD: \", stats.median_abs_deviation(y_pred2))\n",
    "print(\"R^2: \", r2_score(y_valid2,y_pred2))"
   ]
  },
  {
   "cell_type": "code",
   "execution_count": 18,
   "id": "58581a2b",
   "metadata": {},
   "outputs": [
    {
     "name": "stdout",
     "output_type": "stream",
     "text": [
      "MSE:  7343.716804826875\n",
      "MAD:  4.786225000000001\n",
      "R^2:  -0.7158261566476003\n"
     ]
    }
   ],
   "source": [
    "#aplicando .fit() e .predict(), treinando o modelo 3\n",
    "model3 = RandomForestRegressor(random_state=random_st)\n",
    "model3.fit(X_train3,y_train3)\n",
    "y_pred3 = model3.predict(X_valid3)\n",
    "print(\"MSE: \",mean_squared_error(y_valid3, y_pred3))\n",
    "print(\"MAD: \", stats.median_abs_deviation(y_pred3))\n",
    "print(\"R^2: \", r2_score(y_valid3,y_pred3))"
   ]
  },
  {
   "cell_type": "code",
   "execution_count": 19,
   "id": "02e3ac5b",
   "metadata": {},
   "outputs": [
    {
     "name": "stdout",
     "output_type": "stream",
     "text": [
      "MSE:  6075.74727825511\n",
      "MAD:  4.044600000000001\n",
      "R^2:  -0.4195708220064387\n"
     ]
    }
   ],
   "source": [
    "#aplicando .fit() e .predict(), treinando o modelo 4\n",
    "model4 = RandomForestRegressor(random_state=random_st)\n",
    "model4.fit(X_train4,y_train4)\n",
    "y_pred4 = model4.predict(X_valid4)\n",
    "print(\"MSE: \",mean_squared_error(y_valid4, y_pred4))\n",
    "print(\"MAD: \", stats.median_abs_deviation(y_pred4))\n",
    "print(\"R^2: \", r2_score(y_valid4,y_pred4))"
   ]
  },
  {
   "cell_type": "code",
   "execution_count": 20,
   "id": "ebf17797",
   "metadata": {},
   "outputs": [
    {
     "data": {
      "text/html": [
       "<div>\n",
       "<style scoped>\n",
       "    .dataframe tbody tr th:only-of-type {\n",
       "        vertical-align: middle;\n",
       "    }\n",
       "\n",
       "    .dataframe tbody tr th {\n",
       "        vertical-align: top;\n",
       "    }\n",
       "\n",
       "    .dataframe thead th {\n",
       "        text-align: right;\n",
       "    }\n",
       "</style>\n",
       "<table border=\"1\" class=\"dataframe\">\n",
       "  <thead>\n",
       "    <tr style=\"text-align: right;\">\n",
       "      <th></th>\n",
       "      <th>X</th>\n",
       "      <th>Y</th>\n",
       "      <th>FFMC</th>\n",
       "      <th>DMC</th>\n",
       "      <th>DC</th>\n",
       "      <th>ISI</th>\n",
       "      <th>temp</th>\n",
       "      <th>RH</th>\n",
       "      <th>wind</th>\n",
       "      <th>rain</th>\n",
       "      <th>area</th>\n",
       "    </tr>\n",
       "  </thead>\n",
       "  <tbody>\n",
       "    <tr>\n",
       "      <th>count</th>\n",
       "      <td>517.000000</td>\n",
       "      <td>517.000000</td>\n",
       "      <td>517.000000</td>\n",
       "      <td>517.000000</td>\n",
       "      <td>517.000000</td>\n",
       "      <td>517.000000</td>\n",
       "      <td>517.000000</td>\n",
       "      <td>517.000000</td>\n",
       "      <td>517.000000</td>\n",
       "      <td>517.000000</td>\n",
       "      <td>517.000000</td>\n",
       "    </tr>\n",
       "    <tr>\n",
       "      <th>mean</th>\n",
       "      <td>4.669246</td>\n",
       "      <td>4.299807</td>\n",
       "      <td>90.644681</td>\n",
       "      <td>110.872340</td>\n",
       "      <td>547.940039</td>\n",
       "      <td>9.021663</td>\n",
       "      <td>18.889168</td>\n",
       "      <td>44.288201</td>\n",
       "      <td>4.017602</td>\n",
       "      <td>0.021663</td>\n",
       "      <td>12.847292</td>\n",
       "    </tr>\n",
       "    <tr>\n",
       "      <th>std</th>\n",
       "      <td>2.313778</td>\n",
       "      <td>1.229900</td>\n",
       "      <td>5.520111</td>\n",
       "      <td>64.046482</td>\n",
       "      <td>248.066192</td>\n",
       "      <td>4.559477</td>\n",
       "      <td>5.806625</td>\n",
       "      <td>16.317469</td>\n",
       "      <td>1.791653</td>\n",
       "      <td>0.295959</td>\n",
       "      <td>63.655818</td>\n",
       "    </tr>\n",
       "    <tr>\n",
       "      <th>min</th>\n",
       "      <td>1.000000</td>\n",
       "      <td>2.000000</td>\n",
       "      <td>18.700000</td>\n",
       "      <td>1.100000</td>\n",
       "      <td>7.900000</td>\n",
       "      <td>0.000000</td>\n",
       "      <td>2.200000</td>\n",
       "      <td>15.000000</td>\n",
       "      <td>0.400000</td>\n",
       "      <td>0.000000</td>\n",
       "      <td>0.000000</td>\n",
       "    </tr>\n",
       "    <tr>\n",
       "      <th>25%</th>\n",
       "      <td>3.000000</td>\n",
       "      <td>4.000000</td>\n",
       "      <td>90.200000</td>\n",
       "      <td>68.600000</td>\n",
       "      <td>437.700000</td>\n",
       "      <td>6.500000</td>\n",
       "      <td>15.500000</td>\n",
       "      <td>33.000000</td>\n",
       "      <td>2.700000</td>\n",
       "      <td>0.000000</td>\n",
       "      <td>0.000000</td>\n",
       "    </tr>\n",
       "    <tr>\n",
       "      <th>50%</th>\n",
       "      <td>4.000000</td>\n",
       "      <td>4.000000</td>\n",
       "      <td>91.600000</td>\n",
       "      <td>108.300000</td>\n",
       "      <td>664.200000</td>\n",
       "      <td>8.400000</td>\n",
       "      <td>19.300000</td>\n",
       "      <td>42.000000</td>\n",
       "      <td>4.000000</td>\n",
       "      <td>0.000000</td>\n",
       "      <td>0.520000</td>\n",
       "    </tr>\n",
       "    <tr>\n",
       "      <th>75%</th>\n",
       "      <td>7.000000</td>\n",
       "      <td>5.000000</td>\n",
       "      <td>92.900000</td>\n",
       "      <td>142.400000</td>\n",
       "      <td>713.900000</td>\n",
       "      <td>10.800000</td>\n",
       "      <td>22.800000</td>\n",
       "      <td>53.000000</td>\n",
       "      <td>4.900000</td>\n",
       "      <td>0.000000</td>\n",
       "      <td>6.570000</td>\n",
       "    </tr>\n",
       "    <tr>\n",
       "      <th>max</th>\n",
       "      <td>9.000000</td>\n",
       "      <td>9.000000</td>\n",
       "      <td>96.200000</td>\n",
       "      <td>291.300000</td>\n",
       "      <td>860.600000</td>\n",
       "      <td>56.100000</td>\n",
       "      <td>33.300000</td>\n",
       "      <td>100.000000</td>\n",
       "      <td>9.400000</td>\n",
       "      <td>6.400000</td>\n",
       "      <td>1090.840000</td>\n",
       "    </tr>\n",
       "  </tbody>\n",
       "</table>\n",
       "</div>"
      ],
      "text/plain": [
       "                X           Y        FFMC         DMC          DC         ISI  \\\n",
       "count  517.000000  517.000000  517.000000  517.000000  517.000000  517.000000   \n",
       "mean     4.669246    4.299807   90.644681  110.872340  547.940039    9.021663   \n",
       "std      2.313778    1.229900    5.520111   64.046482  248.066192    4.559477   \n",
       "min      1.000000    2.000000   18.700000    1.100000    7.900000    0.000000   \n",
       "25%      3.000000    4.000000   90.200000   68.600000  437.700000    6.500000   \n",
       "50%      4.000000    4.000000   91.600000  108.300000  664.200000    8.400000   \n",
       "75%      7.000000    5.000000   92.900000  142.400000  713.900000   10.800000   \n",
       "max      9.000000    9.000000   96.200000  291.300000  860.600000   56.100000   \n",
       "\n",
       "             temp          RH        wind        rain         area  \n",
       "count  517.000000  517.000000  517.000000  517.000000   517.000000  \n",
       "mean    18.889168   44.288201    4.017602    0.021663    12.847292  \n",
       "std      5.806625   16.317469    1.791653    0.295959    63.655818  \n",
       "min      2.200000   15.000000    0.400000    0.000000     0.000000  \n",
       "25%     15.500000   33.000000    2.700000    0.000000     0.000000  \n",
       "50%     19.300000   42.000000    4.000000    0.000000     0.520000  \n",
       "75%     22.800000   53.000000    4.900000    0.000000     6.570000  \n",
       "max     33.300000  100.000000    9.400000    6.400000  1090.840000  "
      ]
     },
     "execution_count": 20,
     "metadata": {},
     "output_type": "execute_result"
    }
   ],
   "source": [
    "# exibindo metricas do conjunto escolhido\n",
    "ff.describe()"
   ]
  },
  {
   "cell_type": "code",
   "execution_count": 21,
   "id": "fe148ead",
   "metadata": {},
   "outputs": [
    {
     "name": "stdout",
     "output_type": "stream",
     "text": [
      "RandomForestRegressor(max_depth=10, max_leaf_nodes=95, random_state=42)\n",
      "MSE:  7273.294376604554\n",
      "MAD:  4.450832931294077\n",
      "R^2:  -0.6993722753814984\n"
     ]
    },
    {
     "data": {
      "image/png": "[encoded data removed]",
      "text/plain": [
       "<Figure size 432x288 with 1 Axes>"
      ]
     },
     "metadata": {
      "needs_background": "light"
     },
     "output_type": "display_data"
    }
   ],
   "source": [
    "#ajustando os hipermarametros do modelo 3\n",
    "params = {\"max_depth\":range(5,20), \"max_leaf_nodes\":range(50,150,5)}\n",
    "cv1 = RandomizedSearchCV(RandomForestRegressor(random_state=42), param_distributions=params, scoring='neg_mean_squared_error',cv=10,random_state=random_st)\n",
    "cv1.fit(X_train3,y_train3)\n",
    "print(cv1.best_estimator_)\n",
    "y_predh = cv1.predict(X_valid3)\n",
    "print(\"MSE: \",mean_squared_error(y_valid3, y_predh))\n",
    "print(\"MAD: \", stats.median_abs_deviation(y_predh))\n",
    "print(\"R^2: \", r2_score(y_valid3,y_predh))\n",
    "plt.scatter(y_valid3,y_predh)\n",
    "plt.show()"
   ]
  },
  {
   "cell_type": "code",
   "execution_count": 22,
   "id": "12a53435",
   "metadata": {},
   "outputs": [
    {
     "data": {
      "text/plain": [
       "['modelo_RF.pkl']"
      ]
     },
     "execution_count": 22,
     "metadata": {},
     "output_type": "execute_result"
    }
   ],
   "source": [
    "#gerando arquivo .pkl\n",
    "dump(model3, 'modelo_RF.pkl')"
   ]
  },
  {
   "cell_type": "code",
   "execution_count": null,
   "id": "14957387",
   "metadata": {},
   "outputs": [],
   "source": []
  }
 ],
 "metadata": {
  "kernelspec": {
   "display_name": "Python 3",
   "language": "python",
   "name": "python3"
  },
  "language_info": {
   "codemirror_mode": {
    "name": "ipython",
    "version": 3
   },
   "file_extension": ".py",
   "mimetype": "text/x-python",
   "name": "python",
   "nbconvert_exporter": "python",
   "pygments_lexer": "ipython3",
   "version": "3.8.8"
  }
 },
 "nbformat": 4,
 "nbformat_minor": 5
}
