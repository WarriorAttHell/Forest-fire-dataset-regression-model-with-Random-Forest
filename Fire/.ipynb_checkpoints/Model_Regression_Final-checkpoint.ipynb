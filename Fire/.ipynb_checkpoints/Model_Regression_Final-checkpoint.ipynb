{
 "cells": [
  {
   "cell_type": "code",
   "execution_count": 1,
   "id": "6aee88ee",
   "metadata": {},
   "outputs": [],
   "source": [
    "import pandas as pd\n",
    "import numpy as np\n",
    "import warnings\n",
    "import matplotlib.pyplot as plt\n",
    "import joblib as jb\n",
    "import seaborn as sns\n",
    "from joblib import dump, load\n",
    "from scipy import stats\n",
    "from sklearn.metrics import confusion_matrix\n",
    "from sklearn import metrics\n",
    "from sklearn.metrics import accuracy_score\n",
    "from sklearn.model_selection import train_test_split\n",
    "from sklearn.ensemble import RandomForestRegressor, GradientBoostingRegressor\n",
    "from sklearn.preprocessing import LabelEncoder\n",
    "from sklearn.metrics import mean_squared_error, r2_score\n",
    "from scipy.stats import median_absolute_deviation\n",
    "from sklearn.model_selection import RandomizedSearchCV\n",
    "from sklearn.preprocessing import StandardScaler"
   ]
  },
  {
   "cell_type": "code",
   "execution_count": 2,
   "id": "679cdf1d",
   "metadata": {},
   "outputs": [],
   "source": [
    "#importando o dataset e transformando em dataframe\n",
    "ff = pd.read_csv('C:/Users/deand/OneDrive/estudy/Fire/ff.csv', encoding = \"utf-8\")"
   ]
  },
  {
   "cell_type": "code",
   "execution_count": 3,
   "id": "2c3540ec",
   "metadata": {},
   "outputs": [
    {
     "data": {
      "text/html": [
       "<div>\n",
       "<style scoped>\n",
       "    .dataframe tbody tr th:only-of-type {\n",
       "        vertical-align: middle;\n",
       "    }\n",
       "\n",
       "    .dataframe tbody tr th {\n",
       "        vertical-align: top;\n",
       "    }\n",
       "\n",
       "    .dataframe thead th {\n",
       "        text-align: right;\n",
       "    }\n",
       "</style>\n",
       "<table border=\"1\" class=\"dataframe\">\n",
       "  <thead>\n",
       "    <tr style=\"text-align: right;\">\n",
       "      <th></th>\n",
       "      <th>X</th>\n",
       "      <th>Y</th>\n",
       "      <th>month</th>\n",
       "      <th>day</th>\n",
       "      <th>FFMC</th>\n",
       "      <th>DMC</th>\n",
       "      <th>DC</th>\n",
       "      <th>ISI</th>\n",
       "      <th>temp</th>\n",
       "      <th>RH</th>\n",
       "      <th>wind</th>\n",
       "      <th>rain</th>\n",
       "      <th>area</th>\n",
       "    </tr>\n",
       "  </thead>\n",
       "  <tbody>\n",
       "    <tr>\n",
       "      <th>0</th>\n",
       "      <td>7</td>\n",
       "      <td>5</td>\n",
       "      <td>mar</td>\n",
       "      <td>fri</td>\n",
       "      <td>86.2</td>\n",
       "      <td>26.2</td>\n",
       "      <td>94.3</td>\n",
       "      <td>5.1</td>\n",
       "      <td>8.2</td>\n",
       "      <td>51</td>\n",
       "      <td>6.7</td>\n",
       "      <td>0.0</td>\n",
       "      <td>0.0</td>\n",
       "    </tr>\n",
       "    <tr>\n",
       "      <th>1</th>\n",
       "      <td>7</td>\n",
       "      <td>4</td>\n",
       "      <td>oct</td>\n",
       "      <td>tue</td>\n",
       "      <td>90.6</td>\n",
       "      <td>35.4</td>\n",
       "      <td>669.1</td>\n",
       "      <td>6.7</td>\n",
       "      <td>18.0</td>\n",
       "      <td>33</td>\n",
       "      <td>0.9</td>\n",
       "      <td>0.0</td>\n",
       "      <td>0.0</td>\n",
       "    </tr>\n",
       "    <tr>\n",
       "      <th>2</th>\n",
       "      <td>7</td>\n",
       "      <td>4</td>\n",
       "      <td>oct</td>\n",
       "      <td>sat</td>\n",
       "      <td>90.6</td>\n",
       "      <td>43.7</td>\n",
       "      <td>686.9</td>\n",
       "      <td>6.7</td>\n",
       "      <td>14.6</td>\n",
       "      <td>33</td>\n",
       "      <td>1.3</td>\n",
       "      <td>0.0</td>\n",
       "      <td>0.0</td>\n",
       "    </tr>\n",
       "    <tr>\n",
       "      <th>3</th>\n",
       "      <td>8</td>\n",
       "      <td>6</td>\n",
       "      <td>mar</td>\n",
       "      <td>fri</td>\n",
       "      <td>91.7</td>\n",
       "      <td>33.3</td>\n",
       "      <td>77.5</td>\n",
       "      <td>9.0</td>\n",
       "      <td>8.3</td>\n",
       "      <td>97</td>\n",
       "      <td>4.0</td>\n",
       "      <td>0.2</td>\n",
       "      <td>0.0</td>\n",
       "    </tr>\n",
       "    <tr>\n",
       "      <th>4</th>\n",
       "      <td>8</td>\n",
       "      <td>6</td>\n",
       "      <td>mar</td>\n",
       "      <td>sun</td>\n",
       "      <td>89.3</td>\n",
       "      <td>51.3</td>\n",
       "      <td>102.2</td>\n",
       "      <td>9.6</td>\n",
       "      <td>11.4</td>\n",
       "      <td>99</td>\n",
       "      <td>1.8</td>\n",
       "      <td>0.0</td>\n",
       "      <td>0.0</td>\n",
       "    </tr>\n",
       "  </tbody>\n",
       "</table>\n",
       "</div>"
      ],
      "text/plain": [
       "   X  Y month  day  FFMC   DMC     DC  ISI  temp  RH  wind  rain  area\n",
       "0  7  5   mar  fri  86.2  26.2   94.3  5.1   8.2  51   6.7   0.0   0.0\n",
       "1  7  4   oct  tue  90.6  35.4  669.1  6.7  18.0  33   0.9   0.0   0.0\n",
       "2  7  4   oct  sat  90.6  43.7  686.9  6.7  14.6  33   1.3   0.0   0.0\n",
       "3  8  6   mar  fri  91.7  33.3   77.5  9.0   8.3  97   4.0   0.2   0.0\n",
       "4  8  6   mar  sun  89.3  51.3  102.2  9.6  11.4  99   1.8   0.0   0.0"
      ]
     },
     "execution_count": 3,
     "metadata": {},
     "output_type": "execute_result"
    }
   ],
   "source": [
    "#verificando a importação\n",
    "ff.head()"
   ]
  },
  {
   "cell_type": "code",
   "execution_count": 4,
   "id": "2caf8d5c",
   "metadata": {},
   "outputs": [
    {
     "name": "stdout",
     "output_type": "stream",
     "text": [
      "<class 'pandas.core.frame.DataFrame'>\n",
      "RangeIndex: 517 entries, 0 to 516\n",
      "Data columns (total 13 columns):\n",
      " #   Column  Non-Null Count  Dtype  \n",
      "---  ------  --------------  -----  \n",
      " 0   X       517 non-null    int64  \n",
      " 1   Y       517 non-null    int64  \n",
      " 2   month   517 non-null    object \n",
      " 3   day     517 non-null    object \n",
      " 4   FFMC    517 non-null    float64\n",
      " 5   DMC     517 non-null    float64\n",
      " 6   DC      517 non-null    float64\n",
      " 7   ISI     517 non-null    float64\n",
      " 8   temp    517 non-null    float64\n",
      " 9   RH      517 non-null    int64  \n",
      " 10  wind    517 non-null    float64\n",
      " 11  rain    517 non-null    float64\n",
      " 12  area    517 non-null    float64\n",
      "dtypes: float64(8), int64(3), object(2)\n",
      "memory usage: 52.6+ KB\n"
     ]
    }
   ],
   "source": [
    "#informações do dataset\n",
    "ff.info()"
   ]
  },
  {
   "cell_type": "code",
   "execution_count": 5,
   "id": "e15ade54",
   "metadata": {},
   "outputs": [],
   "source": [
    "#excluindo a coluna mês\n",
    "ff.drop('month', axis = 1, inplace = True)\n",
    "#excluindo a coluna dia\n",
    "ff.drop('day', axis = 1, inplace = True)"
   ]
  },
  {
   "cell_type": "code",
   "execution_count": 6,
   "id": "d743ffd4",
   "metadata": {},
   "outputs": [
    {
     "name": "stdout",
     "output_type": "stream",
     "text": [
      "<class 'pandas.core.frame.DataFrame'>\n",
      "RangeIndex: 517 entries, 0 to 516\n",
      "Data columns (total 11 columns):\n",
      " #   Column  Non-Null Count  Dtype  \n",
      "---  ------  --------------  -----  \n",
      " 0   X       517 non-null    int64  \n",
      " 1   Y       517 non-null    int64  \n",
      " 2   FFMC    517 non-null    float64\n",
      " 3   DMC     517 non-null    float64\n",
      " 4   DC      517 non-null    float64\n",
      " 5   ISI     517 non-null    float64\n",
      " 6   temp    517 non-null    float64\n",
      " 7   RH      517 non-null    int64  \n",
      " 8   wind    517 non-null    float64\n",
      " 9   rain    517 non-null    float64\n",
      " 10  area    517 non-null    float64\n",
      "dtypes: float64(8), int64(3)\n",
      "memory usage: 44.6 KB\n"
     ]
    }
   ],
   "source": [
    "ff.info()"
   ]
  },
  {
   "cell_type": "code",
   "execution_count": 7,
   "id": "ea9c4f7a",
   "metadata": {},
   "outputs": [
    {
     "data": {
      "text/plain": [
       "<bound method NDFrame._add_numeric_operations.<locals>.sum of X       0\n",
       "Y       0\n",
       "FFMC    0\n",
       "DMC     0\n",
       "DC      0\n",
       "ISI     0\n",
       "temp    0\n",
       "RH      0\n",
       "wind    0\n",
       "rain    0\n",
       "area    0\n",
       "dtype: int64>"
      ]
     },
     "execution_count": 7,
     "metadata": {},
     "output_type": "execute_result"
    }
   ],
   "source": [
    "#verificando se a dados nulos\n",
    "ff.isnull().sum().sum"
   ]
  },
  {
   "cell_type": "code",
   "execution_count": 8,
   "id": "a5183d50",
   "metadata": {},
   "outputs": [
    {
     "name": "stdout",
     "output_type": "stream",
     "text": [
      "     X  Y  FFMC    DMC     DC   ISI  temp  RH  wind  rain   area\n",
      "53   4  3  92.1  111.2  654.1   9.6  20.4  42   4.9   0.0   0.00\n",
      "100  3  4  91.4  142.4  601.4  10.6  19.8  39   5.4   0.0   0.00\n",
      "215  4  4  91.7   35.8   80.8   7.8  17.0  27   4.9   0.0  28.66\n",
      "303  3  6  91.1   94.1  232.1   7.1  19.2  38   4.5   0.0   0.00\n"
     ]
    }
   ],
   "source": [
    "#verificando a existencia de dados duplicados, mas não iremos excluir só alguns campos são duplicados\n",
    "# a exclusão seria desperdicio de dados\n",
    "dp = ff[ff.duplicated(keep='first')]\n",
    "print(dp)"
   ]
  },
  {
   "cell_type": "code",
   "execution_count": 9,
   "id": "63c00796",
   "metadata": {},
   "outputs": [
    {
     "name": "stdout",
     "output_type": "stream",
     "text": [
      "Correlation:              X         Y      FFMC       DMC        DC       ISI      temp  \\\n",
      "X     1.000000  0.539548 -0.021039 -0.048384 -0.085916  0.006210 -0.051258   \n",
      "Y     0.539548  1.000000 -0.046308  0.007782 -0.101178 -0.024488 -0.024103   \n",
      "FFMC -0.021039 -0.046308  1.000000  0.382619  0.330512  0.531805  0.431532   \n",
      "DMC  -0.048384  0.007782  0.382619  1.000000  0.682192  0.305128  0.469594   \n",
      "DC   -0.085916 -0.101178  0.330512  0.682192  1.000000  0.229154  0.496208   \n",
      "ISI   0.006210 -0.024488  0.531805  0.305128  0.229154  1.000000  0.394287   \n",
      "temp -0.051258 -0.024103  0.431532  0.469594  0.496208  0.394287  1.000000   \n",
      "RH    0.085223  0.062221 -0.300995  0.073795 -0.039192 -0.132517 -0.527390   \n",
      "wind  0.018798 -0.020341 -0.028485 -0.105342 -0.203466  0.106826 -0.227116   \n",
      "rain  0.065387  0.033234  0.056702  0.074790  0.035861  0.067668  0.069491   \n",
      "area  0.063385  0.044873  0.040122  0.072994  0.049383  0.008258  0.097844   \n",
      "\n",
      "            RH      wind      rain      area  \n",
      "X     0.085223  0.018798  0.065387  0.063385  \n",
      "Y     0.062221 -0.020341  0.033234  0.044873  \n",
      "FFMC -0.300995 -0.028485  0.056702  0.040122  \n",
      "DMC   0.073795 -0.105342  0.074790  0.072994  \n",
      "DC   -0.039192 -0.203466  0.035861  0.049383  \n",
      "ISI  -0.132517  0.106826  0.067668  0.008258  \n",
      "temp -0.527390 -0.227116  0.069491  0.097844  \n",
      "RH    1.000000  0.069410  0.099751 -0.075519  \n",
      "wind  0.069410  1.000000  0.061119  0.012317  \n",
      "rain  0.099751  0.061119  1.000000 -0.007366  \n",
      "area -0.075519  0.012317 -0.007366  1.000000  \n"
     ]
    }
   ],
   "source": [
    "#verificando a corelação das features\n",
    "print(\"Correlation:\", ff.corr(method='pearson'))"
   ]
  },
  {
   "cell_type": "code",
   "execution_count": 10,
   "id": "5bf7eadb",
   "metadata": {},
   "outputs": [],
   "source": [
    "# Converta a variável de destino (área queimada) em uma variável categórica (binária) \n",
    "# 0 = sem área queimada; 1 = alguma extensão da floresta foi queimada\n",
    "index_list = ff[ff['area'] > 0.].index.tolist()\n",
    "ff['area'] = 0.\n",
    "ff.loc[index_list, 'area'] = 1."
   ]
  },
  {
   "cell_type": "code",
   "execution_count": 11,
   "id": "8929f69c",
   "metadata": {},
   "outputs": [
    {
     "name": "stdout",
     "output_type": "stream",
     "text": [
      "0      0.0\n",
      "1      0.0\n",
      "2      0.0\n",
      "3      0.0\n",
      "4      0.0\n",
      "      ... \n",
      "512    1.0\n",
      "513    1.0\n",
      "514    1.0\n",
      "515    0.0\n",
      "516    0.0\n",
      "Name: area, Length: 517, dtype: float64\n"
     ]
    }
   ],
   "source": [
    "print(ff['area'])"
   ]
  },
  {
   "cell_type": "code",
   "execution_count": 12,
   "id": "f93e0038",
   "metadata": {},
   "outputs": [
    {
     "data": {
      "text/plain": [
       "((517, 10), (517,))"
      ]
     },
     "execution_count": 12,
     "metadata": {},
     "output_type": "execute_result"
    }
   ],
   "source": [
    "# conjunto de valdação de dados, 70% para teste e 30% para validação\n",
    "X = ff.drop(columns=['area'],axis=1)\n",
    "y = ff['area']\n",
    "ratio_train = 0.3\n",
    "random_st = 42\n",
    "X.shape, y.shape"
   ]
  },
  {
   "cell_type": "code",
   "execution_count": 13,
   "id": "bd44ba6d",
   "metadata": {},
   "outputs": [],
   "source": [
    "#separando o conjunto de dados\n",
    "first_setup = X[['X','Y','FFMC','DMC','DC','ISI']]\n",
    "second_setup = X[['X','Y','temp','RH','wind','rain']]\n",
    "third_setup = X[['FFMC','DMC','DC','ISI']]\n",
    "fourth_setup =  X[['temp','RH','wind','rain']]"
   ]
  },
  {
   "cell_type": "code",
   "execution_count": 14,
   "id": "d2bb5bea",
   "metadata": {},
   "outputs": [],
   "source": [
    "X_train1, X_valid1, y_train1, y_valid1 = train_test_split(first_setup,y,train_size=ratio_train, random_state=random_st)\n",
    "X_train2, X_valid2, y_train2, y_valid2 = train_test_split(second_setup,y,train_size=ratio_train, random_state=random_st)\n",
    "X_train3, X_valid3, y_train3, y_valid3 = train_test_split(third_setup,y,train_size=ratio_train, random_state=random_st)\n",
    "X_train4, X_valid4, y_train4, y_valid4 = train_test_split(fourth_setup,y,train_size=ratio_train, random_state=random_st)"
   ]
  },
  {
   "cell_type": "code",
   "execution_count": 16,
   "id": "7fb3a6e8",
   "metadata": {},
   "outputs": [
    {
     "name": "stdout",
     "output_type": "stream",
     "text": [
      "MSE:  0.25435561057397177\n",
      "MAD:  0.1499999999999999\n",
      "R^2:  -0.01994420538725694\n"
     ]
    }
   ],
   "source": [
    "#aplicando .fit() e .predict(), treinando o modelo 1\n",
    "model1 = RandomForestRegressor(random_state=random_st)\n",
    "model1.fit(X_train1,y_train1)\n",
    "y_pred1 = model1.predict(X_valid1)\n",
    "print(\"MSE: \",mean_squared_error(y_valid1, y_pred1)) #Erro Quadrático Médio\n",
    "print(\"MAD: \", stats.median_abs_deviation(y_pred1))  #Desvio absoluto mediano\n",
    "print(\"R^2: \", r2_score(y_valid1,y_pred1))           #Coeficiente de determinação"
   ]
  },
  {
   "cell_type": "code",
   "execution_count": 17,
   "id": "2d5b0e16",
   "metadata": {},
   "outputs": [
    {
     "name": "stdout",
     "output_type": "stream",
     "text": [
      "MSE:  0.2734359116022099\n",
      "MAD:  0.16000000000000003\n",
      "R^2:  -0.09645457772337807\n"
     ]
    }
   ],
   "source": [
    "#aplicando .fit() e .predict(), treinando o modelo 2\n",
    "model2 = RandomForestRegressor(random_state=random_st)\n",
    "model2.fit(X_train2,y_train2)\n",
    "y_pred2 = model2.predict(X_valid2)\n",
    "print(\"MSE: \",mean_squared_error(y_valid2, y_pred2)) #Erro Quadrático Médio\n",
    "print(\"MAD: \", stats.median_abs_deviation(y_pred2))  #Desvio absoluto mediano\n",
    "print(\"R^2: \", r2_score(y_valid2,y_pred2))           #Coeficiente de determinação"
   ]
  },
  {
   "cell_type": "code",
   "execution_count": 30,
   "id": "09285abf",
   "metadata": {},
   "outputs": [
    {
     "name": "stdout",
     "output_type": "stream",
     "text": [
      "MSE:  0.2788639136781977\n",
      "MAD:  0.21100000000000002\n",
      "R^2:  -0.11822040098059161\n"
     ]
    }
   ],
   "source": [
    "#aplicando .fit() e .predict(), treinando o modelo 3\n",
    "model3 = RandomForestRegressor(random_state=random_st)\n",
    "model3.fit(X_train3,y_train3)\n",
    "y_pred3 = model3.predict(X_valid3)\n",
    "print(\"MSE: \",mean_squared_error(y_valid3, y_pred3)) #Erro Quadrático Médio\n",
    "print(\"MAD: \", stats.median_abs_deviation(y_pred3))  #Desvio absoluto mediano\n",
    "print(\"R^2: \", r2_score(y_valid3,y_pred3))           #Coeficiente de determinação"
   ]
  },
  {
   "cell_type": "code",
   "execution_count": 19,
   "id": "7784b346",
   "metadata": {},
   "outputs": [
    {
     "name": "stdout",
     "output_type": "stream",
     "text": [
      "MSE:  0.2715324109585823\n",
      "MAD:  0.15\n",
      "R^2:  -0.08882170323306182\n"
     ]
    }
   ],
   "source": [
    "#aplicando .fit() e .predict(), treinando o modelo 4\n",
    "model4.fit(X_train4,y_train4)\n",
    "y_pred4 = model4.predict(X_valid4)\n",
    "print(\"MSE: \",mean_squared_error(y_valid4, y_pred4)) #Erro Quadrático Médio\n",
    "print(\"MAD: \", stats.median_abs_deviation(y_pred4))  #Desvio absoluto mediano\n",
    "print(\"R^2: \", r2_score(y_valid4,y_pred4))           #Coeficiente de determinação"
   ]
  },
  {
   "cell_type": "code",
   "execution_count": 32,
   "id": "b02db441",
   "metadata": {},
   "outputs": [
    {
     "name": "stdout",
     "output_type": "stream",
     "text": [
      "RandomForestRegressor(max_depth=5, max_leaf_nodes=95, random_state=42)\n",
      "MSE:  0.2558443459166961\n",
      "MAD:  0.09620536368488375\n",
      "R^2:  -0.025913906557757604\n"
     ]
    },
    {
     "data": {
      "image/png": "[encoded data removed]",
      "text/plain": [
       "<Figure size 432x288 with 1 Axes>"
      ]
     },
     "metadata": {
      "needs_background": "light"
     },
     "output_type": "display_data"
    }
   ],
   "source": [
    "params = {\"max_depth\":range(5,20), \"max_leaf_nodes\":range(50,150,5)}\n",
    "cv1 = RandomizedSearchCV(RandomForestRegressor(random_state=42), param_distributions=params, scoring='neg_mean_squared_error',cv=25,random_state=random_st)\n",
    "cv1.fit(X_train3,y_train3)\n",
    "print(cv1.best_estimator_)\n",
    "y_predh = cv1.predict(X_valid3)\n",
    "print(\"MSE: \",mean_squared_error(y_valid3, y_predh)) # quanto menor melhor\n",
    "print(\"MAD: \", stats.median_abs_deviation(y_predh)) \n",
    "print(\"R^2: \", r2_score(y_valid3,y_predh)) #quanto mais proximo de 1 melhor\n",
    "plt.scatter(y_valid3,y_predh)\n",
    "plt.show()"
   ]
  },
  {
   "cell_type": "code",
   "execution_count": 39,
   "id": "340a7f77",
   "metadata": {},
   "outputs": [],
   "source": [
    "cutoff = 0.536                             # Definido um limite de corte\n",
    "y_valid_classes = np.zeros_like(y_valid3)  # Inicializar uma matriz cheia de zeros\n",
    "y_valid_classes[y_valid3 > cutoff] = 1     # Adicione 1 se o corte foi violado\n",
    "\n",
    "y_pred_classes = np.zeros_like(y_predh)    # Inicializar uma matriz cheia de zeros\n",
    "y_pred_classes[y_predh > cutoff] = 1       # Adicione 1 se o corte foi violado"
   ]
  },
  {
   "cell_type": "code",
   "execution_count": 40,
   "id": "5a4fe767",
   "metadata": {},
   "outputs": [],
   "source": [
    "cm = confusion_matrix(y_valid_classes, y_pred_classes)"
   ]
  },
  {
   "cell_type": "code",
   "execution_count": 41,
   "id": "45c60118",
   "metadata": {},
   "outputs": [],
   "source": [
    "cm_ff = pd.DataFrame(cm,\n",
    "                     index = ['area em chamas M²','area sem chamas M²'], \n",
    "                     columns = ['area em chamas M²','area sem chamas M²'])"
   ]
  },
  {
   "cell_type": "code",
   "execution_count": 42,
   "id": "79ef8e73",
   "metadata": {},
   "outputs": [
    {
     "data": {
      "image/png": "[encoded data removed]",
      "text/plain": [
       "<Figure size 720x504 with 2 Axes>"
      ]
     },
     "metadata": {
      "needs_background": "light"
     },
     "output_type": "display_data"
    }
   ],
   "source": [
    "#plotando matriz de confusão\n",
    "plt.figure(figsize=(10,7))\n",
    "sns.heatmap(cm_ff, annot=True)\n",
    "plt.title('Confusion Matrix')\n",
    "plt.xlabel('Predicted Values')\n",
    "plt.show()"
   ]
  },
  {
   "cell_type": "code",
   "execution_count": 43,
   "id": "75443e75",
   "metadata": {},
   "outputs": [
    {
     "data": {
      "text/plain": [
       "array([[88, 84],\n",
       "       [99, 91]], dtype=int64)"
      ]
     },
     "execution_count": 43,
     "metadata": {},
     "output_type": "execute_result"
    }
   ],
   "source": [
    "confusion_matrix(y_valid_classes, y_pred_classes)"
   ]
  },
  {
   "cell_type": "code",
   "execution_count": 26,
   "id": "bd52aaaa",
   "metadata": {},
   "outputs": [
    {
     "data": {
      "image/png": "[encoded data removed]",
      "text/plain": [
       "<Figure size 864x720 with 2 Axes>"
      ]
     },
     "metadata": {
      "needs_background": "light"
     },
     "output_type": "display_data"
    }
   ],
   "source": [
    "#plotando matriz de correlação\n",
    "corr_df = ff.corr(method='pearson')\n",
    "\n",
    "plt.figure(figsize=(12, 10))\n",
    "sns.heatmap(corr_df, annot=True)\n",
    "plt.show()"
   ]
  },
  {
   "cell_type": "code",
   "execution_count": 27,
   "id": "735ddfc0",
   "metadata": {},
   "outputs": [
    {
     "data": {
      "text/html": [
       "<div>\n",
       "<style scoped>\n",
       "    .dataframe tbody tr th:only-of-type {\n",
       "        vertical-align: middle;\n",
       "    }\n",
       "\n",
       "    .dataframe tbody tr th {\n",
       "        vertical-align: top;\n",
       "    }\n",
       "\n",
       "    .dataframe thead th {\n",
       "        text-align: right;\n",
       "    }\n",
       "</style>\n",
       "<table border=\"1\" class=\"dataframe\">\n",
       "  <thead>\n",
       "    <tr style=\"text-align: right;\">\n",
       "      <th></th>\n",
       "      <th>X</th>\n",
       "      <th>Y</th>\n",
       "      <th>FFMC</th>\n",
       "      <th>DMC</th>\n",
       "      <th>DC</th>\n",
       "      <th>ISI</th>\n",
       "      <th>temp</th>\n",
       "      <th>RH</th>\n",
       "      <th>wind</th>\n",
       "      <th>rain</th>\n",
       "      <th>area</th>\n",
       "    </tr>\n",
       "  </thead>\n",
       "  <tbody>\n",
       "    <tr>\n",
       "      <th>count</th>\n",
       "      <td>517.000000</td>\n",
       "      <td>517.000000</td>\n",
       "      <td>517.000000</td>\n",
       "      <td>517.000000</td>\n",
       "      <td>517.000000</td>\n",
       "      <td>517.000000</td>\n",
       "      <td>517.000000</td>\n",
       "      <td>517.000000</td>\n",
       "      <td>517.000000</td>\n",
       "      <td>517.000000</td>\n",
       "      <td>517.000000</td>\n",
       "    </tr>\n",
       "    <tr>\n",
       "      <th>mean</th>\n",
       "      <td>4.669246</td>\n",
       "      <td>4.299807</td>\n",
       "      <td>90.644681</td>\n",
       "      <td>110.872340</td>\n",
       "      <td>547.940039</td>\n",
       "      <td>9.021663</td>\n",
       "      <td>18.889168</td>\n",
       "      <td>44.288201</td>\n",
       "      <td>4.017602</td>\n",
       "      <td>0.021663</td>\n",
       "      <td>0.522244</td>\n",
       "    </tr>\n",
       "    <tr>\n",
       "      <th>std</th>\n",
       "      <td>2.313778</td>\n",
       "      <td>1.229900</td>\n",
       "      <td>5.520111</td>\n",
       "      <td>64.046482</td>\n",
       "      <td>248.066192</td>\n",
       "      <td>4.559477</td>\n",
       "      <td>5.806625</td>\n",
       "      <td>16.317469</td>\n",
       "      <td>1.791653</td>\n",
       "      <td>0.295959</td>\n",
       "      <td>0.499989</td>\n",
       "    </tr>\n",
       "    <tr>\n",
       "      <th>min</th>\n",
       "      <td>1.000000</td>\n",
       "      <td>2.000000</td>\n",
       "      <td>18.700000</td>\n",
       "      <td>1.100000</td>\n",
       "      <td>7.900000</td>\n",
       "      <td>0.000000</td>\n",
       "      <td>2.200000</td>\n",
       "      <td>15.000000</td>\n",
       "      <td>0.400000</td>\n",
       "      <td>0.000000</td>\n",
       "      <td>0.000000</td>\n",
       "    </tr>\n",
       "    <tr>\n",
       "      <th>25%</th>\n",
       "      <td>3.000000</td>\n",
       "      <td>4.000000</td>\n",
       "      <td>90.200000</td>\n",
       "      <td>68.600000</td>\n",
       "      <td>437.700000</td>\n",
       "      <td>6.500000</td>\n",
       "      <td>15.500000</td>\n",
       "      <td>33.000000</td>\n",
       "      <td>2.700000</td>\n",
       "      <td>0.000000</td>\n",
       "      <td>0.000000</td>\n",
       "    </tr>\n",
       "    <tr>\n",
       "      <th>50%</th>\n",
       "      <td>4.000000</td>\n",
       "      <td>4.000000</td>\n",
       "      <td>91.600000</td>\n",
       "      <td>108.300000</td>\n",
       "      <td>664.200000</td>\n",
       "      <td>8.400000</td>\n",
       "      <td>19.300000</td>\n",
       "      <td>42.000000</td>\n",
       "      <td>4.000000</td>\n",
       "      <td>0.000000</td>\n",
       "      <td>1.000000</td>\n",
       "    </tr>\n",
       "    <tr>\n",
       "      <th>75%</th>\n",
       "      <td>7.000000</td>\n",
       "      <td>5.000000</td>\n",
       "      <td>92.900000</td>\n",
       "      <td>142.400000</td>\n",
       "      <td>713.900000</td>\n",
       "      <td>10.800000</td>\n",
       "      <td>22.800000</td>\n",
       "      <td>53.000000</td>\n",
       "      <td>4.900000</td>\n",
       "      <td>0.000000</td>\n",
       "      <td>1.000000</td>\n",
       "    </tr>\n",
       "    <tr>\n",
       "      <th>max</th>\n",
       "      <td>9.000000</td>\n",
       "      <td>9.000000</td>\n",
       "      <td>96.200000</td>\n",
       "      <td>291.300000</td>\n",
       "      <td>860.600000</td>\n",
       "      <td>56.100000</td>\n",
       "      <td>33.300000</td>\n",
       "      <td>100.000000</td>\n",
       "      <td>9.400000</td>\n",
       "      <td>6.400000</td>\n",
       "      <td>1.000000</td>\n",
       "    </tr>\n",
       "  </tbody>\n",
       "</table>\n",
       "</div>"
      ],
      "text/plain": [
       "                X           Y        FFMC         DMC          DC         ISI  \\\n",
       "count  517.000000  517.000000  517.000000  517.000000  517.000000  517.000000   \n",
       "mean     4.669246    4.299807   90.644681  110.872340  547.940039    9.021663   \n",
       "std      2.313778    1.229900    5.520111   64.046482  248.066192    4.559477   \n",
       "min      1.000000    2.000000   18.700000    1.100000    7.900000    0.000000   \n",
       "25%      3.000000    4.000000   90.200000   68.600000  437.700000    6.500000   \n",
       "50%      4.000000    4.000000   91.600000  108.300000  664.200000    8.400000   \n",
       "75%      7.000000    5.000000   92.900000  142.400000  713.900000   10.800000   \n",
       "max      9.000000    9.000000   96.200000  291.300000  860.600000   56.100000   \n",
       "\n",
       "             temp          RH        wind        rain        area  \n",
       "count  517.000000  517.000000  517.000000  517.000000  517.000000  \n",
       "mean    18.889168   44.288201    4.017602    0.021663    0.522244  \n",
       "std      5.806625   16.317469    1.791653    0.295959    0.499989  \n",
       "min      2.200000   15.000000    0.400000    0.000000    0.000000  \n",
       "25%     15.500000   33.000000    2.700000    0.000000    0.000000  \n",
       "50%     19.300000   42.000000    4.000000    0.000000    1.000000  \n",
       "75%     22.800000   53.000000    4.900000    0.000000    1.000000  \n",
       "max     33.300000  100.000000    9.400000    6.400000    1.000000  "
      ]
     },
     "execution_count": 27,
     "metadata": {},
     "output_type": "execute_result"
    }
   ],
   "source": [
    "ff.describe()"
   ]
  },
  {
   "cell_type": "code",
   "execution_count": 31,
   "id": "63f0b9f1",
   "metadata": {},
   "outputs": [
    {
     "data": {
      "text/plain": [
       "['modelo_RF.pkl']"
      ]
     },
     "execution_count": 31,
     "metadata": {},
     "output_type": "execute_result"
    }
   ],
   "source": [
    "#gerando arquivo .pkl\n",
    "dump(model3, 'modelo_RF.pkl')"
   ]
  },
  {
   "cell_type": "code",
   "execution_count": null,
   "id": "c2bf95b2",
   "metadata": {},
   "outputs": [],
   "source": []
  }
 ],
 "metadata": {
  "kernelspec": {
   "display_name": "Python 3",
   "language": "python",
   "name": "python3"
  },
  "language_info": {
   "codemirror_mode": {
    "name": "ipython",
    "version": 3
   },
   "file_extension": ".py",
   "mimetype": "text/x-python",
   "name": "python",
   "nbconvert_exporter": "python",
   "pygments_lexer": "ipython3",
   "version": "3.8.8"
  }
 },
 "nbformat": 4,
 "nbformat_minor": 5
}
